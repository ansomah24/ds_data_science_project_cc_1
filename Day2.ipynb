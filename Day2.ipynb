{
 "cells": [
  {
   "cell_type": "markdown",
   "id": "4d934a6f-3883-418c-ac35-597c8c931af0",
   "metadata": {},
   "source": [
    "## Importing Libraries "
   ]
  },
  {
   "cell_type": "code",
   "execution_count": 1,
   "id": "f2004f45-0c75-4e3b-9217-f9829950e899",
   "metadata": {},
   "outputs": [],
   "source": [
    "## importing libraries for loading and preprocessing data \n",
    "import numpy as np\n",
    "import pandas as pd"
   ]
  },
  {
   "cell_type": "markdown",
   "id": "99080a75-e319-4c21-ae7c-b7ac2104cde2",
   "metadata": {},
   "source": [
    "## Reading/Loading And Creating a Copy of Dataset"
   ]
  },
  {
   "cell_type": "code",
   "execution_count": 2,
   "id": "f9b3c58e-7e79-4af0-948a-e21a64b52d75",
   "metadata": {},
   "outputs": [],
   "source": [
    "data = pd.read_csv('Datasets/Iris_data_sample.csv')"
   ]
  },
  {
   "cell_type": "code",
   "execution_count": 3,
   "id": "0911aa23-b05d-46db-bed7-80f0abb583eb",
   "metadata": {},
   "outputs": [],
   "source": [
    "## creating a deep copy of the dataset \n",
    "df1 = data.copy(deep=True)"
   ]
  },
  {
   "cell_type": "code",
   "execution_count": 4,
   "id": "9a52809f-4f49-44b5-9866-f070c5048cde",
   "metadata": {},
   "outputs": [
    {
     "data": {
      "text/html": [
       "<div>\n",
       "<style scoped>\n",
       "    .dataframe tbody tr th:only-of-type {\n",
       "        vertical-align: middle;\n",
       "    }\n",
       "\n",
       "    .dataframe tbody tr th {\n",
       "        vertical-align: top;\n",
       "    }\n",
       "\n",
       "    .dataframe thead th {\n",
       "        text-align: right;\n",
       "    }\n",
       "</style>\n",
       "<table border=\"1\" class=\"dataframe\">\n",
       "  <thead>\n",
       "    <tr style=\"text-align: right;\">\n",
       "      <th></th>\n",
       "      <th>Unnamed: 0</th>\n",
       "      <th>SepalLengthCm</th>\n",
       "      <th>SepalWidthCm</th>\n",
       "      <th>PetalLengthCm</th>\n",
       "      <th>PetalWidthCm</th>\n",
       "      <th>Species</th>\n",
       "    </tr>\n",
       "  </thead>\n",
       "  <tbody>\n",
       "    <tr>\n",
       "      <th>0</th>\n",
       "      <td>1</td>\n",
       "      <td>5.1</td>\n",
       "      <td>3.5</td>\n",
       "      <td>1.4</td>\n",
       "      <td>0.2</td>\n",
       "      <td>Iris-setosa</td>\n",
       "    </tr>\n",
       "    <tr>\n",
       "      <th>1</th>\n",
       "      <td>2</td>\n",
       "      <td>4.9</td>\n",
       "      <td>NaN</td>\n",
       "      <td>1.4</td>\n",
       "      <td>0.2</td>\n",
       "      <td>NaN</td>\n",
       "    </tr>\n",
       "    <tr>\n",
       "      <th>2</th>\n",
       "      <td>3</td>\n",
       "      <td>4.7</td>\n",
       "      <td>3.2</td>\n",
       "      <td>1.3</td>\n",
       "      <td>0.2</td>\n",
       "      <td>Iris-setosa</td>\n",
       "    </tr>\n",
       "    <tr>\n",
       "      <th>3</th>\n",
       "      <td>4</td>\n",
       "      <td>??</td>\n",
       "      <td>3.1</td>\n",
       "      <td>1.5</td>\n",
       "      <td>0.2</td>\n",
       "      <td>Iris-setosa</td>\n",
       "    </tr>\n",
       "    <tr>\n",
       "      <th>4</th>\n",
       "      <td>5</td>\n",
       "      <td>5</td>\n",
       "      <td>3.6</td>\n",
       "      <td>###</td>\n",
       "      <td>0.2</td>\n",
       "      <td>Iris-setosa</td>\n",
       "    </tr>\n",
       "  </tbody>\n",
       "</table>\n",
       "</div>"
      ],
      "text/plain": [
       "   Unnamed: 0 SepalLengthCm  SepalWidthCm PetalLengthCm  PetalWidthCm  \\\n",
       "0           1           5.1           3.5           1.4           0.2   \n",
       "1           2           4.9           NaN           1.4           0.2   \n",
       "2           3           4.7           3.2           1.3           0.2   \n",
       "3           4            ??           3.1           1.5           0.2   \n",
       "4           5             5           3.6           ###           0.2   \n",
       "\n",
       "       Species  \n",
       "0  Iris-setosa  \n",
       "1          NaN  \n",
       "2  Iris-setosa  \n",
       "3  Iris-setosa  \n",
       "4  Iris-setosa  "
      ]
     },
     "execution_count": 4,
     "metadata": {},
     "output_type": "execute_result"
    }
   ],
   "source": [
    "df1.head()"
   ]
  },
  {
   "cell_type": "code",
   "execution_count": 5,
   "id": "a607a3b4-ca30-4b05-920e-cc112244f99a",
   "metadata": {},
   "outputs": [],
   "source": [
    "data_2 = pd.read_csv(\"Datasets/Toyota.csv\")"
   ]
  },
  {
   "cell_type": "code",
   "execution_count": 6,
   "id": "138fd66f-83d8-4c3c-bc85-1ffdafc525bd",
   "metadata": {},
   "outputs": [],
   "source": [
    "## creating a deep copy \n",
    "df2 = data_2.copy()"
   ]
  },
  {
   "cell_type": "code",
   "execution_count": 7,
   "id": "df9ab1a4-c4ae-4b89-bc28-bba8854fbefc",
   "metadata": {},
   "outputs": [],
   "source": [
    "data3 = pd.read_table(\"Datasets/Iris_data_sample.txt\", delimiter=\" \")"
   ]
  },
  {
   "cell_type": "code",
   "execution_count": 8,
   "id": "be8cfc49-7ba3-427c-9acb-fe817d9079ab",
   "metadata": {},
   "outputs": [],
   "source": [
    "# data3"
   ]
  },
  {
   "cell_type": "markdown",
   "id": "8c52326a-ebff-45a6-883b-5b35130e9b1e",
   "metadata": {},
   "source": [
    "## Understanding Dataset"
   ]
  },
  {
   "cell_type": "code",
   "execution_count": 9,
   "id": "2bbaab6a-baf9-4f00-b169-6868af0b6f91",
   "metadata": {},
   "outputs": [
    {
     "data": {
      "text/html": [
       "<div>\n",
       "<style scoped>\n",
       "    .dataframe tbody tr th:only-of-type {\n",
       "        vertical-align: middle;\n",
       "    }\n",
       "\n",
       "    .dataframe tbody tr th {\n",
       "        vertical-align: top;\n",
       "    }\n",
       "\n",
       "    .dataframe thead th {\n",
       "        text-align: right;\n",
       "    }\n",
       "</style>\n",
       "<table border=\"1\" class=\"dataframe\">\n",
       "  <thead>\n",
       "    <tr style=\"text-align: right;\">\n",
       "      <th></th>\n",
       "      <th>Unnamed: 0</th>\n",
       "      <th>SepalLengthCm</th>\n",
       "      <th>SepalWidthCm</th>\n",
       "      <th>PetalLengthCm</th>\n",
       "      <th>PetalWidthCm</th>\n",
       "      <th>Species</th>\n",
       "    </tr>\n",
       "  </thead>\n",
       "  <tbody>\n",
       "    <tr>\n",
       "      <th>1</th>\n",
       "      <td>1</td>\n",
       "      <td>5.1</td>\n",
       "      <td>3.5</td>\n",
       "      <td>1.4</td>\n",
       "      <td>0.2</td>\n",
       "      <td>Iris-setosa</td>\n",
       "    </tr>\n",
       "    <tr>\n",
       "      <th>2</th>\n",
       "      <td>2</td>\n",
       "      <td>4.9</td>\n",
       "      <td>3.0</td>\n",
       "      <td>1.4</td>\n",
       "      <td>0.2</td>\n",
       "      <td>Iris-setosa</td>\n",
       "    </tr>\n",
       "    <tr>\n",
       "      <th>3</th>\n",
       "      <td>3</td>\n",
       "      <td>4.7</td>\n",
       "      <td>3.2</td>\n",
       "      <td>1.3</td>\n",
       "      <td>0.2</td>\n",
       "      <td>Iris-setosa</td>\n",
       "    </tr>\n",
       "    <tr>\n",
       "      <th>4</th>\n",
       "      <td>4</td>\n",
       "      <td>4.6</td>\n",
       "      <td>3.1</td>\n",
       "      <td>1.5</td>\n",
       "      <td>0.2</td>\n",
       "      <td>Iris-setosa</td>\n",
       "    </tr>\n",
       "    <tr>\n",
       "      <th>5</th>\n",
       "      <td>5</td>\n",
       "      <td>5.0</td>\n",
       "      <td>3.6</td>\n",
       "      <td>1.4</td>\n",
       "      <td>0.2</td>\n",
       "      <td>Iris-setosa</td>\n",
       "    </tr>\n",
       "  </tbody>\n",
       "</table>\n",
       "</div>"
      ],
      "text/plain": [
       "   Unnamed: 0  SepalLengthCm  SepalWidthCm  PetalLengthCm  PetalWidthCm  \\\n",
       "1           1            5.1           3.5            1.4           0.2   \n",
       "2           2            4.9           3.0            1.4           0.2   \n",
       "3           3            4.7           3.2            1.3           0.2   \n",
       "4           4            4.6           3.1            1.5           0.2   \n",
       "5           5            5.0           3.6            1.4           0.2   \n",
       "\n",
       "       Species  \n",
       "1  Iris-setosa  \n",
       "2  Iris-setosa  \n",
       "3  Iris-setosa  \n",
       "4  Iris-setosa  \n",
       "5  Iris-setosa  "
      ]
     },
     "execution_count": 9,
     "metadata": {},
     "output_type": "execute_result"
    }
   ],
   "source": [
    "## display first five rows\n",
    "data3.head()"
   ]
  },
  {
   "cell_type": "code",
   "execution_count": 10,
   "id": "c1d7b180-121a-4770-9f91-ae48e747212d",
   "metadata": {},
   "outputs": [
    {
     "data": {
      "text/html": [
       "<div>\n",
       "<style scoped>\n",
       "    .dataframe tbody tr th:only-of-type {\n",
       "        vertical-align: middle;\n",
       "    }\n",
       "\n",
       "    .dataframe tbody tr th {\n",
       "        vertical-align: top;\n",
       "    }\n",
       "\n",
       "    .dataframe thead th {\n",
       "        text-align: right;\n",
       "    }\n",
       "</style>\n",
       "<table border=\"1\" class=\"dataframe\">\n",
       "  <thead>\n",
       "    <tr style=\"text-align: right;\">\n",
       "      <th></th>\n",
       "      <th>Unnamed: 0</th>\n",
       "      <th>SepalLengthCm</th>\n",
       "      <th>SepalWidthCm</th>\n",
       "      <th>PetalLengthCm</th>\n",
       "      <th>PetalWidthCm</th>\n",
       "      <th>Species</th>\n",
       "    </tr>\n",
       "  </thead>\n",
       "  <tbody>\n",
       "    <tr>\n",
       "      <th>146</th>\n",
       "      <td>146</td>\n",
       "      <td>6.7</td>\n",
       "      <td>3.0</td>\n",
       "      <td>5.2</td>\n",
       "      <td>2.3</td>\n",
       "      <td>Iris-virginica</td>\n",
       "    </tr>\n",
       "    <tr>\n",
       "      <th>147</th>\n",
       "      <td>147</td>\n",
       "      <td>6.3</td>\n",
       "      <td>2.5</td>\n",
       "      <td>5.0</td>\n",
       "      <td>1.9</td>\n",
       "      <td>Iris-virginica</td>\n",
       "    </tr>\n",
       "    <tr>\n",
       "      <th>148</th>\n",
       "      <td>148</td>\n",
       "      <td>6.5</td>\n",
       "      <td>3.0</td>\n",
       "      <td>5.2</td>\n",
       "      <td>2.0</td>\n",
       "      <td>Iris-virginica</td>\n",
       "    </tr>\n",
       "    <tr>\n",
       "      <th>149</th>\n",
       "      <td>149</td>\n",
       "      <td>6.2</td>\n",
       "      <td>3.4</td>\n",
       "      <td>5.4</td>\n",
       "      <td>2.3</td>\n",
       "      <td>Iris-virginica</td>\n",
       "    </tr>\n",
       "    <tr>\n",
       "      <th>150</th>\n",
       "      <td>150</td>\n",
       "      <td>5.9</td>\n",
       "      <td>3.0</td>\n",
       "      <td>5.1</td>\n",
       "      <td>1.8</td>\n",
       "      <td>Iris-virginica</td>\n",
       "    </tr>\n",
       "  </tbody>\n",
       "</table>\n",
       "</div>"
      ],
      "text/plain": [
       "     Unnamed: 0  SepalLengthCm  SepalWidthCm  PetalLengthCm  PetalWidthCm  \\\n",
       "146         146            6.7           3.0            5.2           2.3   \n",
       "147         147            6.3           2.5            5.0           1.9   \n",
       "148         148            6.5           3.0            5.2           2.0   \n",
       "149         149            6.2           3.4            5.4           2.3   \n",
       "150         150            5.9           3.0            5.1           1.8   \n",
       "\n",
       "            Species  \n",
       "146  Iris-virginica  \n",
       "147  Iris-virginica  \n",
       "148  Iris-virginica  \n",
       "149  Iris-virginica  \n",
       "150  Iris-virginica  "
      ]
     },
     "execution_count": 10,
     "metadata": {},
     "output_type": "execute_result"
    }
   ],
   "source": [
    "## display the last five rows \n",
    "data3.tail()"
   ]
  },
  {
   "cell_type": "code",
   "execution_count": 11,
   "id": "ced99ad4-e92e-4273-962d-9aa64f473684",
   "metadata": {},
   "outputs": [
    {
     "data": {
      "text/html": [
       "<div>\n",
       "<style scoped>\n",
       "    .dataframe tbody tr th:only-of-type {\n",
       "        vertical-align: middle;\n",
       "    }\n",
       "\n",
       "    .dataframe tbody tr th {\n",
       "        vertical-align: top;\n",
       "    }\n",
       "\n",
       "    .dataframe thead th {\n",
       "        text-align: right;\n",
       "    }\n",
       "</style>\n",
       "<table border=\"1\" class=\"dataframe\">\n",
       "  <thead>\n",
       "    <tr style=\"text-align: right;\">\n",
       "      <th></th>\n",
       "      <th>Unnamed: 0</th>\n",
       "      <th>SepalLengthCm</th>\n",
       "      <th>SepalWidthCm</th>\n",
       "      <th>PetalLengthCm</th>\n",
       "      <th>PetalWidthCm</th>\n",
       "      <th>Species</th>\n",
       "    </tr>\n",
       "  </thead>\n",
       "  <tbody>\n",
       "    <tr>\n",
       "      <th>0</th>\n",
       "      <td>1</td>\n",
       "      <td>5.1</td>\n",
       "      <td>3.5</td>\n",
       "      <td>1.4</td>\n",
       "      <td>0.2</td>\n",
       "      <td>Iris-setosa</td>\n",
       "    </tr>\n",
       "    <tr>\n",
       "      <th>1</th>\n",
       "      <td>2</td>\n",
       "      <td>4.9</td>\n",
       "      <td>NaN</td>\n",
       "      <td>1.4</td>\n",
       "      <td>0.2</td>\n",
       "      <td>NaN</td>\n",
       "    </tr>\n",
       "    <tr>\n",
       "      <th>2</th>\n",
       "      <td>3</td>\n",
       "      <td>4.7</td>\n",
       "      <td>3.2</td>\n",
       "      <td>1.3</td>\n",
       "      <td>0.2</td>\n",
       "      <td>Iris-setosa</td>\n",
       "    </tr>\n",
       "    <tr>\n",
       "      <th>3</th>\n",
       "      <td>4</td>\n",
       "      <td>??</td>\n",
       "      <td>3.1</td>\n",
       "      <td>1.5</td>\n",
       "      <td>0.2</td>\n",
       "      <td>Iris-setosa</td>\n",
       "    </tr>\n",
       "    <tr>\n",
       "      <th>4</th>\n",
       "      <td>5</td>\n",
       "      <td>5</td>\n",
       "      <td>3.6</td>\n",
       "      <td>###</td>\n",
       "      <td>0.2</td>\n",
       "      <td>Iris-setosa</td>\n",
       "    </tr>\n",
       "    <tr>\n",
       "      <th>5</th>\n",
       "      <td>6</td>\n",
       "      <td>5.4</td>\n",
       "      <td>3.9</td>\n",
       "      <td>NaN</td>\n",
       "      <td>0.4</td>\n",
       "      <td>Iris-setosa</td>\n",
       "    </tr>\n",
       "    <tr>\n",
       "      <th>6</th>\n",
       "      <td>7</td>\n",
       "      <td>4.6</td>\n",
       "      <td>3.4</td>\n",
       "      <td>1.4</td>\n",
       "      <td>0.3</td>\n",
       "      <td>Iris-setosa</td>\n",
       "    </tr>\n",
       "  </tbody>\n",
       "</table>\n",
       "</div>"
      ],
      "text/plain": [
       "   Unnamed: 0 SepalLengthCm  SepalWidthCm PetalLengthCm  PetalWidthCm  \\\n",
       "0           1           5.1           3.5           1.4           0.2   \n",
       "1           2           4.9           NaN           1.4           0.2   \n",
       "2           3           4.7           3.2           1.3           0.2   \n",
       "3           4            ??           3.1           1.5           0.2   \n",
       "4           5             5           3.6           ###           0.2   \n",
       "5           6           5.4           3.9           NaN           0.4   \n",
       "6           7           4.6           3.4           1.4           0.3   \n",
       "\n",
       "       Species  \n",
       "0  Iris-setosa  \n",
       "1          NaN  \n",
       "2  Iris-setosa  \n",
       "3  Iris-setosa  \n",
       "4  Iris-setosa  \n",
       "5  Iris-setosa  \n",
       "6  Iris-setosa  "
      ]
     },
     "execution_count": 11,
     "metadata": {},
     "output_type": "execute_result"
    }
   ],
   "source": [
    "## display n the number of rows \n",
    "data.head(7)"
   ]
  },
  {
   "cell_type": "code",
   "execution_count": 12,
   "id": "df9e34b3-1ab0-4384-8f8f-fea4d3b3aeda",
   "metadata": {},
   "outputs": [
    {
     "data": {
      "text/plain": [
       "Index(['Unnamed: 0', 'SepalLengthCm', 'SepalWidthCm', 'PetalLengthCm',\n",
       "       'PetalWidthCm', 'Species'],\n",
       "      dtype='object')"
      ]
     },
     "execution_count": 12,
     "metadata": {},
     "output_type": "execute_result"
    }
   ],
   "source": [
    "df1.columns"
   ]
  },
  {
   "cell_type": "code",
   "execution_count": 13,
   "id": "ba4a8211-c9bd-469d-a2c2-2140ff7c560a",
   "metadata": {},
   "outputs": [
    {
     "name": "stdout",
     "output_type": "stream",
     "text": [
      "unnamed: 0\n",
      "sepallengthcm\n",
      "sepalwidthcm\n",
      "petallengthcm\n",
      "petalwidthcm\n",
      "species\n"
     ]
    }
   ],
   "source": [
    "for each_item in df1.columns:\n",
    "    print(each_item.lower())"
   ]
  },
  {
   "cell_type": "code",
   "execution_count": 14,
   "id": "e0e7511c-a653-44eb-afea-fc6f8294855a",
   "metadata": {},
   "outputs": [
    {
     "data": {
      "text/plain": [
       "0      5.1\n",
       "1      4.9\n",
       "2      4.7\n",
       "3       ??\n",
       "4        5\n",
       "      ... \n",
       "145    6.7\n",
       "146    6.3\n",
       "147    6.5\n",
       "148    6.2\n",
       "149    5.9\n",
       "Name: SepalLengthCm, Length: 150, dtype: object"
      ]
     },
     "execution_count": 14,
     "metadata": {},
     "output_type": "execute_result"
    }
   ],
   "source": [
    "df1['SepalLengthCm']"
   ]
  },
  {
   "cell_type": "code",
   "execution_count": 15,
   "id": "47aa5263-2a18-4d75-8c34-fca09f2e9309",
   "metadata": {},
   "outputs": [
    {
     "data": {
      "text/plain": [
       "'5.1'"
      ]
     },
     "execution_count": 15,
     "metadata": {},
     "output_type": "execute_result"
    }
   ],
   "source": [
    "## acceass a single value for a row/col by their label and index \n",
    "df1.at[0, 'SepalLengthCm']"
   ]
  },
  {
   "cell_type": "code",
   "execution_count": 16,
   "id": "c39ad1ac-1ad4-402d-86ee-8f03a3af0b96",
   "metadata": {},
   "outputs": [
    {
     "data": {
      "text/plain": [
       "'5.1'"
      ]
     },
     "execution_count": 16,
     "metadata": {},
     "output_type": "execute_result"
    }
   ],
   "source": [
    "df1.iat[0, 1]"
   ]
  },
  {
   "cell_type": "code",
   "execution_count": 17,
   "id": "7f5ed080-68f4-4c83-9db7-9cca6a45a29d",
   "metadata": {},
   "outputs": [
    {
     "data": {
      "text/plain": [
       "0     5.1\n",
       "1     4.9\n",
       "2     4.7\n",
       "3      ??\n",
       "4       5\n",
       "5     5.4\n",
       "6     4.6\n",
       "7       5\n",
       "8     4.4\n",
       "9     4.9\n",
       "10    5.4\n",
       "Name: SepalLengthCm, dtype: object"
      ]
     },
     "execution_count": 17,
     "metadata": {},
     "output_type": "execute_result"
    }
   ],
   "source": [
    "## accessing a group of rows and column by their label \n",
    "\n",
    "df1.loc[ 0: 10, 'SepalLengthCm']"
   ]
  },
  {
   "cell_type": "code",
   "execution_count": 18,
   "id": "61d71f46-b47d-4356-bdb3-6257914065bf",
   "metadata": {},
   "outputs": [
    {
     "data": {
      "text/plain": [
       "50      7\n",
       "51    6.4\n",
       "52    6.9\n",
       "53    5.5\n",
       "54    6.5\n",
       "55    5.7\n",
       "56    6.3\n",
       "57    4.9\n",
       "58    6.6\n",
       "59    5.2\n",
       "60      5\n",
       "Name: SepalLengthCm, dtype: object"
      ]
     },
     "execution_count": 18,
     "metadata": {},
     "output_type": "execute_result"
    }
   ],
   "source": [
    "df1.loc[50:60, 'SepalLengthCm']"
   ]
  },
  {
   "cell_type": "code",
   "execution_count": 19,
   "id": "184ce3fa-30ef-41e3-8381-dc3cfdedd91d",
   "metadata": {},
   "outputs": [
    {
     "data": {
      "text/plain": [
       "0    5.1\n",
       "1    4.9\n",
       "2    4.7\n",
       "3     ??\n",
       "4      5\n",
       "5    5.4\n",
       "6    4.6\n",
       "7      5\n",
       "8    4.4\n",
       "9    4.9\n",
       "Name: SepalLengthCm, dtype: object"
      ]
     },
     "execution_count": 19,
     "metadata": {},
     "output_type": "execute_result"
    }
   ],
   "source": [
    "df1.iloc[0: 10, 1]"
   ]
  },
  {
   "cell_type": "code",
   "execution_count": 20,
   "id": "5416bf21-ada9-4a85-bb07-7cebe4e75aa7",
   "metadata": {},
   "outputs": [
    {
     "data": {
      "text/html": [
       "<div>\n",
       "<style scoped>\n",
       "    .dataframe tbody tr th:only-of-type {\n",
       "        vertical-align: middle;\n",
       "    }\n",
       "\n",
       "    .dataframe tbody tr th {\n",
       "        vertical-align: top;\n",
       "    }\n",
       "\n",
       "    .dataframe thead th {\n",
       "        text-align: right;\n",
       "    }\n",
       "</style>\n",
       "<table border=\"1\" class=\"dataframe\">\n",
       "  <thead>\n",
       "    <tr style=\"text-align: right;\">\n",
       "      <th></th>\n",
       "      <th>Unnamed: 0</th>\n",
       "      <th>SepalLengthCm</th>\n",
       "      <th>SepalWidthCm</th>\n",
       "      <th>PetalLengthCm</th>\n",
       "      <th>PetalWidthCm</th>\n",
       "      <th>Species</th>\n",
       "    </tr>\n",
       "  </thead>\n",
       "  <tbody>\n",
       "    <tr>\n",
       "      <th>10</th>\n",
       "      <td>11</td>\n",
       "      <td>5.4</td>\n",
       "      <td>3.7</td>\n",
       "      <td>1.5</td>\n",
       "      <td>0.2</td>\n",
       "      <td>Iris-setosa</td>\n",
       "    </tr>\n",
       "    <tr>\n",
       "      <th>11</th>\n",
       "      <td>12</td>\n",
       "      <td>4.8</td>\n",
       "      <td>3.4</td>\n",
       "      <td>1.6</td>\n",
       "      <td>0.2</td>\n",
       "      <td>Iris-setosa</td>\n",
       "    </tr>\n",
       "    <tr>\n",
       "      <th>12</th>\n",
       "      <td>13</td>\n",
       "      <td>4.8</td>\n",
       "      <td>3.0</td>\n",
       "      <td>1.4</td>\n",
       "      <td>0.1</td>\n",
       "      <td>Iris-setosa</td>\n",
       "    </tr>\n",
       "    <tr>\n",
       "      <th>13</th>\n",
       "      <td>14</td>\n",
       "      <td>4.3</td>\n",
       "      <td>3.0</td>\n",
       "      <td>1.1</td>\n",
       "      <td>0.1</td>\n",
       "      <td>Iris-setosa</td>\n",
       "    </tr>\n",
       "    <tr>\n",
       "      <th>14</th>\n",
       "      <td>15</td>\n",
       "      <td>5.8</td>\n",
       "      <td>4.0</td>\n",
       "      <td>1.2</td>\n",
       "      <td>0.2</td>\n",
       "      <td>Iris-setosa</td>\n",
       "    </tr>\n",
       "    <tr>\n",
       "      <th>15</th>\n",
       "      <td>16</td>\n",
       "      <td>5.7</td>\n",
       "      <td>4.4</td>\n",
       "      <td>1.5</td>\n",
       "      <td>0.4</td>\n",
       "      <td>Iris-setosa</td>\n",
       "    </tr>\n",
       "  </tbody>\n",
       "</table>\n",
       "</div>"
      ],
      "text/plain": [
       "    Unnamed: 0 SepalLengthCm  SepalWidthCm PetalLengthCm  PetalWidthCm  \\\n",
       "10          11           5.4           3.7           1.5           0.2   \n",
       "11          12           4.8           3.4           1.6           0.2   \n",
       "12          13           4.8           3.0           1.4           0.1   \n",
       "13          14           4.3           3.0           1.1           0.1   \n",
       "14          15           5.8           4.0           1.2           0.2   \n",
       "15          16           5.7           4.4           1.5           0.4   \n",
       "\n",
       "        Species  \n",
       "10  Iris-setosa  \n",
       "11  Iris-setosa  \n",
       "12  Iris-setosa  \n",
       "13  Iris-setosa  \n",
       "14  Iris-setosa  \n",
       "15  Iris-setosa  "
      ]
     },
     "execution_count": 20,
     "metadata": {},
     "output_type": "execute_result"
    }
   ],
   "source": [
    "df1.loc[10:15, ]\n",
    "## to put data in shape, take unnamed columns out, check number of decimal places, species has  a categorical type but it detail is object, so need to work on it"
   ]
  },
  {
   "cell_type": "code",
   "execution_count": 21,
   "id": "c56c4bee-5e5e-4706-99e6-3a4070cb39d8",
   "metadata": {},
   "outputs": [],
   "source": [
    "##working on the above"
   ]
  },
  {
   "cell_type": "code",
   "execution_count": 22,
   "id": "e84fc182-0122-42da-b4be-222e660b8f10",
   "metadata": {},
   "outputs": [
    {
     "data": {
      "text/plain": [
       "900"
      ]
     },
     "execution_count": 22,
     "metadata": {},
     "output_type": "execute_result"
    }
   ],
   "source": [
    "## returns size of dataset\n",
    "df1.size"
   ]
  },
  {
   "cell_type": "code",
   "execution_count": null,
   "id": "a30e1551-0a57-483c-ab6b-854d307ef97a",
   "metadata": {},
   "outputs": [],
   "source": []
  },
  {
   "cell_type": "code",
   "execution_count": 23,
   "id": "79072a90-ba0d-4573-b3ae-382ae0304c8e",
   "metadata": {},
   "outputs": [
    {
     "data": {
      "text/plain": [
       "(150, 6)"
      ]
     },
     "execution_count": 23,
     "metadata": {},
     "output_type": "execute_result"
    }
   ],
   "source": [
    "##Day 3\n",
    "## Lets return the shape of dataset\n",
    "df1.shape"
   ]
  },
  {
   "cell_type": "code",
   "execution_count": 24,
   "id": "bddab852-ff20-4de7-b684-6f365b24d0b4",
   "metadata": {},
   "outputs": [
    {
     "name": "stdout",
     "output_type": "stream",
     "text": [
      "150\n",
      "6\n"
     ]
    }
   ],
   "source": [
    "for i in df1.shape:\n",
    "    print(i)"
   ]
  },
  {
   "cell_type": "code",
   "execution_count": 25,
   "id": "eed35778-c7d1-4f8a-b140-ed1dee7b38a6",
   "metadata": {},
   "outputs": [
    {
     "data": {
      "text/plain": [
       "150"
      ]
     },
     "execution_count": 25,
     "metadata": {},
     "output_type": "execute_result"
    }
   ],
   "source": [
    "df1.shape[0]"
   ]
  },
  {
   "cell_type": "code",
   "execution_count": 26,
   "id": "94dbc422-8705-44ec-a401-1ba643c77723",
   "metadata": {},
   "outputs": [
    {
     "data": {
      "text/plain": [
       "6"
      ]
     },
     "execution_count": 26,
     "metadata": {},
     "output_type": "execute_result"
    }
   ],
   "source": [
    "df1.shape[1]"
   ]
  },
  {
   "cell_type": "code",
   "execution_count": 27,
   "id": "8a4631fa-c2de-42ad-8c46-c1b75f537044",
   "metadata": {},
   "outputs": [
    {
     "name": "stdout",
     "output_type": "stream",
     "text": [
      "Total number of rows: 150 Toatl number of columns: 6\n"
     ]
    }
   ],
   "source": [
    "print(\"Total number of rows:\",df1.shape[0],\"Toatl number of columns:\", df1.shape[1])"
   ]
  },
  {
   "cell_type": "code",
   "execution_count": null,
   "id": "66a68dc1-24f4-424a-a6c1-7881a1c667b8",
   "metadata": {},
   "outputs": [],
   "source": []
  },
  {
   "cell_type": "code",
   "execution_count": 28,
   "id": "37417486-2418-4dcb-931b-ffc26159d6fb",
   "metadata": {},
   "outputs": [
    {
     "name": "stdout",
     "output_type": "stream",
     "text": [
      "<class 'pandas.core.frame.DataFrame'>\n",
      "RangeIndex: 150 entries, 0 to 149\n",
      "Data columns (total 6 columns):\n",
      " #   Column         Non-Null Count  Dtype  \n",
      "---  ------         --------------  -----  \n",
      " 0   Unnamed: 0     150 non-null    int64  \n",
      " 1   SepalLengthCm  150 non-null    object \n",
      " 2   SepalWidthCm   149 non-null    float64\n",
      " 3   PetalLengthCm  149 non-null    object \n",
      " 4   PetalWidthCm   150 non-null    float64\n",
      " 5   Species        149 non-null    object \n",
      "dtypes: float64(2), int64(1), object(3)\n",
      "memory usage: 7.2+ KB\n"
     ]
    }
   ],
   "source": [
    "## return a concise summary of the dataset \n",
    "df1.info()\n"
   ]
  },
  {
   "cell_type": "code",
   "execution_count": 29,
   "id": "64eae4e9-d5d7-4057-845b-a4e7bc8953c1",
   "metadata": {},
   "outputs": [
    {
     "data": {
      "text/plain": [
       "Unnamed: 0       150\n",
       "SepalLengthCm     36\n",
       "SepalWidthCm      23\n",
       "PetalLengthCm     44\n",
       "PetalWidthCm      22\n",
       "Species            3\n",
       "dtype: int64"
      ]
     },
     "execution_count": 29,
     "metadata": {},
     "output_type": "execute_result"
    }
   ],
   "source": [
    "## return \n",
    "df1.nunique()"
   ]
  },
  {
   "cell_type": "code",
   "execution_count": 30,
   "id": "160a3e19-9311-4a9f-8b88-48a3c8544d9d",
   "metadata": {},
   "outputs": [
    {
     "data": {
      "text/plain": [
       "array(['Iris-setosa', nan, 'Iris-versicolor', 'Iris-virginica'],\n",
       "      dtype=object)"
      ]
     },
     "execution_count": 30,
     "metadata": {},
     "output_type": "execute_result"
    }
   ],
   "source": [
    "df1['Species'].unique()"
   ]
  },
  {
   "cell_type": "code",
   "execution_count": 31,
   "id": "1dbe97d3-0d3c-4cf5-a28c-1a80c2e0120b",
   "metadata": {},
   "outputs": [
    {
     "data": {
      "text/plain": [
       "array(['5.1', '4.9', '4.7', '??', '5', '5.4', '4.6', '4.4', '4.8', '4.3',\n",
       "       '5.8', '5.7', '5.2', '5.5', '4.5', '5.3', '7', '6.4', '6.9', '6.5',\n",
       "       '6.3', '6.6', '5.9', '6', '6.1', '5.6', '6.7', '6.2', '6.8', '7.1',\n",
       "       '7.6', '7.3', '7.2', '7.7', '7.4', '7.9'], dtype=object)"
      ]
     },
     "execution_count": 31,
     "metadata": {},
     "output_type": "execute_result"
    }
   ],
   "source": [
    "df1['SepalLengthCm'].unique()"
   ]
  },
  {
   "cell_type": "code",
   "execution_count": 32,
   "id": "86786ff4-6de1-430a-b03d-34dd5e543ce4",
   "metadata": {},
   "outputs": [
    {
     "data": {
      "text/plain": [
       "36"
      ]
     },
     "execution_count": 32,
     "metadata": {},
     "output_type": "execute_result"
    }
   ],
   "source": [
    "df1['SepalLengthCm'].nunique()"
   ]
  },
  {
   "cell_type": "code",
   "execution_count": 33,
   "id": "bea5d67c-6d8d-4325-bf88-c83fb13c545c",
   "metadata": {},
   "outputs": [
    {
     "data": {
      "text/plain": [
       "44"
      ]
     },
     "execution_count": 33,
     "metadata": {},
     "output_type": "execute_result"
    }
   ],
   "source": [
    "df1['PetalLengthCm'].nunique()"
   ]
  },
  {
   "cell_type": "code",
   "execution_count": 34,
   "id": "0592b98b-d475-4ee6-8db0-95fe89c09936",
   "metadata": {},
   "outputs": [
    {
     "data": {
      "text/plain": [
       "22"
      ]
     },
     "execution_count": 34,
     "metadata": {},
     "output_type": "execute_result"
    }
   ],
   "source": [
    "df1['PetalWidthCm'].nunique()"
   ]
  },
  {
   "cell_type": "code",
   "execution_count": 35,
   "id": "cbfc3fff-1f77-4bf4-aa08-d7ffaa60f264",
   "metadata": {},
   "outputs": [
    {
     "data": {
      "text/plain": [
       "Unnamed: 0       0\n",
       "SepalLengthCm    0\n",
       "SepalWidthCm     1\n",
       "PetalLengthCm    1\n",
       "PetalWidthCm     0\n",
       "Species          1\n",
       "dtype: int64"
      ]
     },
     "execution_count": 35,
     "metadata": {},
     "output_type": "execute_result"
    }
   ],
   "source": [
    "##returns the number of missing values in each column\n",
    "df1.isnull().sum()"
   ]
  },
  {
   "cell_type": "markdown",
   "id": "a11cef88-6f42-4b07-9a75-09c8589a41ef",
   "metadata": {},
   "source": [
    "Data Preprocessing\n",
    "*Replacing special characters\n",
    "*Converting the column\n",
    "*Inputingthe missing values"
   ]
  },
  {
   "cell_type": "code",
   "execution_count": 36,
   "id": "dd0e537e-a4f0-4b4b-9cbd-2819735a8538",
   "metadata": {},
   "outputs": [
    {
     "data": {
      "text/plain": [
       "0      5.1\n",
       "1      4.9\n",
       "2      4.7\n",
       "3      NaN\n",
       "4        5\n",
       "      ... \n",
       "145    6.7\n",
       "146    6.3\n",
       "147    6.5\n",
       "148    6.2\n",
       "149    5.9\n",
       "Name: SepalLengthCm, Length: 150, dtype: object"
      ]
     },
     "execution_count": 36,
     "metadata": {},
     "output_type": "execute_result"
    }
   ],
   "source": [
    "df1['SepalLengthCm'].replace(\"??\",np.nan)"
   ]
  },
  {
   "cell_type": "code",
   "execution_count": 37,
   "id": "a0c45f98-22ec-4acb-83df-0fb02cc47181",
   "metadata": {},
   "outputs": [
    {
     "data": {
      "text/plain": [
       "array(['5.1', '4.9', '4.7', '??', '5', '5.4', '4.6', '4.4', '4.8', '4.3',\n",
       "       '5.8', '5.7', '5.2', '5.5', '4.5', '5.3', '7', '6.4', '6.9', '6.5',\n",
       "       '6.3', '6.6', '5.9', '6', '6.1', '5.6', '6.7', '6.2', '6.8', '7.1',\n",
       "       '7.6', '7.3', '7.2', '7.7', '7.4', '7.9'], dtype=object)"
      ]
     },
     "execution_count": 37,
     "metadata": {},
     "output_type": "execute_result"
    }
   ],
   "source": [
    "df1['SepalLengthCm'].unique()"
   ]
  },
  {
   "cell_type": "code",
   "execution_count": 38,
   "id": "d346eb95-ede6-4356-9584-a9ec6f26745a",
   "metadata": {},
   "outputs": [],
   "source": [
    "## this replaces the ?? with nan which is pandas syntax\n",
    "df1['SepalLengthCm'].replace(\"??\",np.nan, inplace=True)"
   ]
  },
  {
   "cell_type": "code",
   "execution_count": 39,
   "id": "73f28ef8-cef1-4602-89c6-1272a62e70c0",
   "metadata": {},
   "outputs": [
    {
     "data": {
      "text/plain": [
       "0      5.1\n",
       "1      4.9\n",
       "2      4.7\n",
       "3      NaN\n",
       "4        5\n",
       "      ... \n",
       "145    6.7\n",
       "146    6.3\n",
       "147    6.5\n",
       "148    6.2\n",
       "149    5.9\n",
       "Name: SepalLengthCm, Length: 150, dtype: object"
      ]
     },
     "execution_count": 39,
     "metadata": {},
     "output_type": "execute_result"
    }
   ],
   "source": [
    "df1['SepalLengthCm'].replace(\"??\",np.nan, inplace=False)"
   ]
  },
  {
   "cell_type": "code",
   "execution_count": 40,
   "id": "716fa240-4d71-4fd2-8044-aa6cd52bc498",
   "metadata": {},
   "outputs": [],
   "source": [
    "## this replaces the ?? with nan which is pandas syntax. this is method\n",
    "df1['SepalLengthCm']=df1['SepalLengthCm'].replace(\"??\",np.nan)"
   ]
  },
  {
   "cell_type": "code",
   "execution_count": 41,
   "id": "eb609ea7-711c-48e9-bf48-cb84816fba7b",
   "metadata": {},
   "outputs": [],
   "source": [
    "##df1['SepalLengthCm']=df1['SepalLengthCm'].replace(\"5.1\",np.passed)   was trying something"
   ]
  },
  {
   "cell_type": "code",
   "execution_count": 42,
   "id": "64a352d3-c32f-4b44-9b9d-3bb0abf1ad86",
   "metadata": {},
   "outputs": [
    {
     "data": {
      "text/plain": [
       "array(['5.1', '4.9', '4.7', nan, '5', '5.4', '4.6', '4.4', '4.8', '4.3',\n",
       "       '5.8', '5.7', '5.2', '5.5', '4.5', '5.3', '7', '6.4', '6.9', '6.5',\n",
       "       '6.3', '6.6', '5.9', '6', '6.1', '5.6', '6.7', '6.2', '6.8', '7.1',\n",
       "       '7.6', '7.3', '7.2', '7.7', '7.4', '7.9'], dtype=object)"
      ]
     },
     "execution_count": 42,
     "metadata": {},
     "output_type": "execute_result"
    }
   ],
   "source": [
    "## recheck for the special character\n",
    "df1['SepalLengthCm'].unique()"
   ]
  },
  {
   "cell_type": "code",
   "execution_count": 43,
   "id": "5810e3d8-255b-4058-867c-89532cc9972f",
   "metadata": {},
   "outputs": [
    {
     "data": {
      "text/plain": [
       "0      5.1\n",
       "1      4.9\n",
       "2      4.7\n",
       "3      NaN\n",
       "4      5.0\n",
       "      ... \n",
       "145    6.7\n",
       "146    6.3\n",
       "147    6.5\n",
       "148    6.2\n",
       "149    5.9\n",
       "Name: SepalLengthCm, Length: 150, dtype: float64"
      ]
     },
     "execution_count": 43,
     "metadata": {},
     "output_type": "execute_result"
    }
   ],
   "source": [
    "## convert column type to float, this did not affect the original data check next one\n",
    "df1['SepalLengthCm'].astype('float64')"
   ]
  },
  {
   "cell_type": "code",
   "execution_count": 44,
   "id": "281d1584-9185-4980-b80d-714fcf82cbdd",
   "metadata": {},
   "outputs": [],
   "source": [
    "##convert column type to float   this affected it\n",
    "df1['SepalLengthCm']=df1['SepalLengthCm'].astype('float64')"
   ]
  },
  {
   "cell_type": "code",
   "execution_count": 45,
   "id": "a9947402-27a5-4086-a67e-a1cfed574c43",
   "metadata": {},
   "outputs": [
    {
     "data": {
      "text/plain": [
       "Unnamed: 0         int64\n",
       "SepalLengthCm    float64\n",
       "SepalWidthCm     float64\n",
       "PetalLengthCm     object\n",
       "PetalWidthCm     float64\n",
       "Species           object\n",
       "dtype: object"
      ]
     },
     "execution_count": 45,
     "metadata": {},
     "output_type": "execute_result"
    }
   ],
   "source": [
    "## return the columns and their data types\n",
    "df1.dtypes"
   ]
  },
  {
   "cell_type": "code",
   "execution_count": null,
   "id": "e2d6dfea-7d29-4f71-a932-ceb2fd1d0a71",
   "metadata": {},
   "outputs": [],
   "source": []
  },
  {
   "cell_type": "code",
   "execution_count": 46,
   "id": "eb14aaa2-94af-42be-bbd2-95323f024e82",
   "metadata": {},
   "outputs": [],
   "source": [
    "##replace ?? with missing values\n",
    "df1['PetalLengthCm'] = df1['PetalLengthCm'].replace('###',np.nan)\n",
    "##convert column type to float\n",
    "df1['PetalLengthCm'] = df1['PetalLengthCm'].astype('float64')"
   ]
  },
  {
   "cell_type": "code",
   "execution_count": 47,
   "id": "7865158a-81ba-45b4-9df3-4e41d5879e91",
   "metadata": {},
   "outputs": [
    {
     "data": {
      "text/plain": [
       "array([1.4, 1.3, 1.5, nan, 1.6, 1.1, 1.2, 1.7, 1. , 1.9, 4.7, 4.5, 4.9,\n",
       "       4. , 4.6, 3.3, 3.9, 3.5, 4.2, 3.6, 4.4, 4.1, 4.8, 4.3, 5. , 3.8,\n",
       "       3.7, 5.1, 3. , 6. , 5.9, 5.6, 5.8, 6.6, 6.3, 6.1, 5.3, 5.5, 6.7,\n",
       "       6.9, 5.7, 6.4, 5.4, 5.2])"
      ]
     },
     "execution_count": 47,
     "metadata": {},
     "output_type": "execute_result"
    }
   ],
   "source": [
    "df1['PetalLengthCm'].unique()"
   ]
  },
  {
   "cell_type": "code",
   "execution_count": 48,
   "id": "b3824557-3a4d-488b-90df-5958ac49bc98",
   "metadata": {},
   "outputs": [
    {
     "data": {
      "text/plain": [
       "Unnamed: 0       0\n",
       "SepalLengthCm    1\n",
       "SepalWidthCm     1\n",
       "PetalLengthCm    2\n",
       "PetalWidthCm     0\n",
       "Species          1\n",
       "dtype: int64"
      ]
     },
     "execution_count": 48,
     "metadata": {},
     "output_type": "execute_result"
    }
   ],
   "source": [
    "df1.isnull().sum()"
   ]
  },
  {
   "cell_type": "code",
   "execution_count": 49,
   "id": "02cef131-b415-42b3-a760-ecdd4140ec93",
   "metadata": {},
   "outputs": [
    {
     "data": {
      "text/html": [
       "<div>\n",
       "<style scoped>\n",
       "    .dataframe tbody tr th:only-of-type {\n",
       "        vertical-align: middle;\n",
       "    }\n",
       "\n",
       "    .dataframe tbody tr th {\n",
       "        vertical-align: top;\n",
       "    }\n",
       "\n",
       "    .dataframe thead th {\n",
       "        text-align: right;\n",
       "    }\n",
       "</style>\n",
       "<table border=\"1\" class=\"dataframe\">\n",
       "  <thead>\n",
       "    <tr style=\"text-align: right;\">\n",
       "      <th></th>\n",
       "      <th>Unnamed: 0</th>\n",
       "      <th>SepalLengthCm</th>\n",
       "      <th>SepalWidthCm</th>\n",
       "      <th>PetalLengthCm</th>\n",
       "      <th>PetalWidthCm</th>\n",
       "      <th>Species</th>\n",
       "    </tr>\n",
       "  </thead>\n",
       "  <tbody>\n",
       "    <tr>\n",
       "      <th>10</th>\n",
       "      <td>11</td>\n",
       "      <td>5.4</td>\n",
       "      <td>3.7</td>\n",
       "      <td>1.5</td>\n",
       "      <td>0.2</td>\n",
       "      <td>Iris-setosa</td>\n",
       "    </tr>\n",
       "    <tr>\n",
       "      <th>11</th>\n",
       "      <td>12</td>\n",
       "      <td>4.8</td>\n",
       "      <td>3.4</td>\n",
       "      <td>1.6</td>\n",
       "      <td>0.2</td>\n",
       "      <td>Iris-setosa</td>\n",
       "    </tr>\n",
       "    <tr>\n",
       "      <th>12</th>\n",
       "      <td>13</td>\n",
       "      <td>4.8</td>\n",
       "      <td>3.0</td>\n",
       "      <td>1.4</td>\n",
       "      <td>0.1</td>\n",
       "      <td>Iris-setosa</td>\n",
       "    </tr>\n",
       "    <tr>\n",
       "      <th>13</th>\n",
       "      <td>14</td>\n",
       "      <td>4.3</td>\n",
       "      <td>3.0</td>\n",
       "      <td>1.1</td>\n",
       "      <td>0.1</td>\n",
       "      <td>Iris-setosa</td>\n",
       "    </tr>\n",
       "    <tr>\n",
       "      <th>14</th>\n",
       "      <td>15</td>\n",
       "      <td>5.8</td>\n",
       "      <td>4.0</td>\n",
       "      <td>1.2</td>\n",
       "      <td>0.2</td>\n",
       "      <td>Iris-setosa</td>\n",
       "    </tr>\n",
       "    <tr>\n",
       "      <th>15</th>\n",
       "      <td>16</td>\n",
       "      <td>5.7</td>\n",
       "      <td>4.4</td>\n",
       "      <td>1.5</td>\n",
       "      <td>0.4</td>\n",
       "      <td>Iris-setosa</td>\n",
       "    </tr>\n",
       "  </tbody>\n",
       "</table>\n",
       "</div>"
      ],
      "text/plain": [
       "    Unnamed: 0  SepalLengthCm  SepalWidthCm  PetalLengthCm  PetalWidthCm  \\\n",
       "10          11            5.4           3.7            1.5           0.2   \n",
       "11          12            4.8           3.4            1.6           0.2   \n",
       "12          13            4.8           3.0            1.4           0.1   \n",
       "13          14            4.3           3.0            1.1           0.1   \n",
       "14          15            5.8           4.0            1.2           0.2   \n",
       "15          16            5.7           4.4            1.5           0.4   \n",
       "\n",
       "        Species  \n",
       "10  Iris-setosa  \n",
       "11  Iris-setosa  \n",
       "12  Iris-setosa  \n",
       "13  Iris-setosa  \n",
       "14  Iris-setosa  \n",
       "15  Iris-setosa  "
      ]
     },
     "execution_count": 49,
     "metadata": {},
     "output_type": "execute_result"
    }
   ],
   "source": [
    "df1.loc[10:15, ]"
   ]
  },
  {
   "cell_type": "code",
   "execution_count": 50,
   "id": "a624e1e9-3cf3-43ef-81a8-2b63bb8afc7f",
   "metadata": {},
   "outputs": [
    {
     "name": "stdout",
     "output_type": "stream",
     "text": [
      "5.851677852348993\n"
     ]
    }
   ],
   "source": [
    "## Iputing missing values  for sepallength\n",
    "mean_seplencm= df1['SepalLengthCm'].mean()\n",
    "print(mean_seplencm)"
   ]
  },
  {
   "cell_type": "code",
   "execution_count": 51,
   "id": "b5f24604-0ee2-42ce-bb86-f0157b7ccbfb",
   "metadata": {},
   "outputs": [
    {
     "data": {
      "text/plain": [
       "0      5.100000\n",
       "1      4.900000\n",
       "2      4.700000\n",
       "3      5.851678\n",
       "4      5.000000\n",
       "         ...   \n",
       "145    6.700000\n",
       "146    6.300000\n",
       "147    6.500000\n",
       "148    6.200000\n",
       "149    5.900000\n",
       "Name: SepalLengthCm, Length: 150, dtype: float64"
      ]
     },
     "execution_count": 51,
     "metadata": {},
     "output_type": "execute_result"
    }
   ],
   "source": [
    "##fillna is used to fill missing value\n",
    "df1['SepalLengthCm'].fillna(mean_seplencm)"
   ]
  },
  {
   "cell_type": "code",
   "execution_count": 52,
   "id": "b3e27655-26ea-45b2-8809-672fa5000e70",
   "metadata": {},
   "outputs": [
    {
     "data": {
      "text/plain": [
       "Unnamed: 0       0\n",
       "SepalLengthCm    1\n",
       "SepalWidthCm     1\n",
       "PetalLengthCm    2\n",
       "PetalWidthCm     0\n",
       "Species          1\n",
       "dtype: int64"
      ]
     },
     "execution_count": 52,
     "metadata": {},
     "output_type": "execute_result"
    }
   ],
   "source": [
    "##now check if above has reflected.. realised it didnt reflect sepallength is 1\n",
    "df1.isnull().sum()"
   ]
  },
  {
   "cell_type": "code",
   "execution_count": 53,
   "id": "d9b09fbc-143c-4104-ab1c-297bc2a75208",
   "metadata": {},
   "outputs": [],
   "source": [
    "## this will replace it\n",
    "df1['SepalLengthCm']=df1['SepalLengthCm'].fillna(mean_seplencm)"
   ]
  },
  {
   "cell_type": "code",
   "execution_count": 54,
   "id": "79f61485-20d4-4460-ae56-f867b98dbae5",
   "metadata": {},
   "outputs": [
    {
     "data": {
      "text/plain": [
       "Unnamed: 0       0\n",
       "SepalLengthCm    0\n",
       "SepalWidthCm     1\n",
       "PetalLengthCm    2\n",
       "PetalWidthCm     0\n",
       "Species          1\n",
       "dtype: int64"
      ]
     },
     "execution_count": 54,
     "metadata": {},
     "output_type": "execute_result"
    }
   ],
   "source": [
    "df1.isnull().sum()"
   ]
  },
  {
   "cell_type": "code",
   "execution_count": 55,
   "id": "fd2b02af-f890-4828-b1c5-f3e41259b546",
   "metadata": {},
   "outputs": [
    {
     "data": {
      "text/plain": [
       "0      3.500000\n",
       "1      5.851678\n",
       "2      3.200000\n",
       "3      3.100000\n",
       "4      3.600000\n",
       "         ...   \n",
       "145    3.000000\n",
       "146    2.500000\n",
       "147    3.000000\n",
       "148    3.400000\n",
       "149    3.000000\n",
       "Name: SepalWidthCm, Length: 150, dtype: float64"
      ]
     },
     "execution_count": 55,
     "metadata": {},
     "output_type": "execute_result"
    }
   ],
   "source": [
    "df1['SepalWidthCm'].fillna(mean_seplencm)"
   ]
  },
  {
   "cell_type": "code",
   "execution_count": 56,
   "id": "e5ff6422-a788-49a7-a820-fb5004385f90",
   "metadata": {},
   "outputs": [
    {
     "data": {
      "text/plain": [
       "Unnamed: 0       0\n",
       "SepalLengthCm    0\n",
       "SepalWidthCm     1\n",
       "PetalLengthCm    2\n",
       "PetalWidthCm     0\n",
       "Species          1\n",
       "dtype: int64"
      ]
     },
     "execution_count": 56,
     "metadata": {},
     "output_type": "execute_result"
    }
   ],
   "source": [
    "##checking if it has reflected in the data..... we see it didn't \n",
    "df1.isnull().sum()"
   ]
  },
  {
   "cell_type": "code",
   "execution_count": 57,
   "id": "14c9155c-96e9-40e5-aa78-dd72a6cdfeb2",
   "metadata": {},
   "outputs": [],
   "source": [
    "df1['SepalWidthCm']=df1['SepalWidthCm'].fillna(mean_seplencm)"
   ]
  },
  {
   "cell_type": "code",
   "execution_count": 58,
   "id": "ac21e810-941f-454d-b6be-48d605c0a4ca",
   "metadata": {},
   "outputs": [
    {
     "data": {
      "text/plain": [
       "Unnamed: 0       0\n",
       "SepalLengthCm    0\n",
       "SepalWidthCm     0\n",
       "PetalLengthCm    2\n",
       "PetalWidthCm     0\n",
       "Species          1\n",
       "dtype: int64"
      ]
     },
     "execution_count": 58,
     "metadata": {},
     "output_type": "execute_result"
    }
   ],
   "source": [
    "##checking now\n",
    "df1.isnull().sum()"
   ]
  },
  {
   "cell_type": "code",
   "execution_count": 59,
   "id": "83cbaad1-087a-4c8e-a532-8258a5f19ec9",
   "metadata": {},
   "outputs": [],
   "source": [
    "##another way of doing it  \n",
    "df1['SepalWidthCm'] = df1['SepalWidthCm'].fillna(df1['SepalWidthCm'].mean())"
   ]
  },
  {
   "cell_type": "code",
   "execution_count": 60,
   "id": "db739374-5dd8-4184-8bb4-a0b0128321b1",
   "metadata": {},
   "outputs": [],
   "source": [
    "##seletcing the value with the highest count\n",
    "highest_count=df1['Species'].value_counts().index[0]"
   ]
  },
  {
   "cell_type": "code",
   "execution_count": 61,
   "id": "0e1481da-ecb5-4494-88e3-ad58456f29cc",
   "metadata": {},
   "outputs": [],
   "source": [
    "##replace it in the column\n",
    "df1['Species']=df1['Species'].fillna(highest_count)"
   ]
  },
  {
   "cell_type": "code",
   "execution_count": 62,
   "id": "caf39085-e53d-41be-85bf-a88c1024d1fe",
   "metadata": {},
   "outputs": [
    {
     "data": {
      "text/plain": [
       "Unnamed: 0       0\n",
       "SepalLengthCm    0\n",
       "SepalWidthCm     0\n",
       "PetalLengthCm    2\n",
       "PetalWidthCm     0\n",
       "Species          0\n",
       "dtype: int64"
      ]
     },
     "execution_count": 62,
     "metadata": {},
     "output_type": "execute_result"
    }
   ],
   "source": [
    "## now checking again    go and complete that of petalwidthcm yourself\n",
    "df1.isnull().sum()"
   ]
  },
  {
   "cell_type": "code",
   "execution_count": 63,
   "id": "6e475626-c7e9-478b-b5b7-bcc74caf8fbd",
   "metadata": {},
   "outputs": [],
   "source": [
    "## replace ?? with missing values its also above\n",
    "df1['PetalLengthCm'] = df1['PetalLengthCm'].replace(\"###\", np.nan)\n",
    "## convert column type to float \n",
    "df1['PetalLengthCm'] = df1['PetalLengthCm'].astype('float64')"
   ]
  },
  {
   "cell_type": "code",
   "execution_count": 64,
   "id": "283ca936-ea35-47b5-be58-32822289c0da",
   "metadata": {},
   "outputs": [],
   "source": [
    "##check why not running\n",
    "df1['PetalLengthCm'] = df1['PetalLengthCm'].fillna(df1['PetalLengthCm'].mean())"
   ]
  },
  {
   "cell_type": "code",
   "execution_count": 65,
   "id": "f21b6c0b-afa2-4647-baae-c4ff6b1b5012",
   "metadata": {},
   "outputs": [
    {
     "data": {
      "text/plain": [
       "Species\n",
       "Iris-versicolor    51\n",
       "Iris-virginica     50\n",
       "Iris-setosa        49\n",
       "Name: count, dtype: int64"
      ]
     },
     "execution_count": 65,
     "metadata": {},
     "output_type": "execute_result"
    }
   ],
   "source": [
    "## fixing missing values for species columns \n",
    "df1['Species'].value_counts()"
   ]
  },
  {
   "cell_type": "code",
   "execution_count": 66,
   "id": "69821ec4-4e5c-4eac-97c1-aa121d874aab",
   "metadata": {},
   "outputs": [],
   "source": [
    "## selecting the value with highest count \n",
    "highest_count = df1['Species'].value_counts().index[0]"
   ]
  },
  {
   "cell_type": "code",
   "execution_count": 67,
   "id": "a6aa4b22-81b5-4f43-80fd-277852eb3465",
   "metadata": {},
   "outputs": [],
   "source": [
    "## replace it in the column \n",
    "df1['Species'] = df1['Species'].fillna(highest_count)"
   ]
  },
  {
   "cell_type": "code",
   "execution_count": 68,
   "id": "f289a3e3-09f3-4516-9d0b-9b382175e9d6",
   "metadata": {},
   "outputs": [
    {
     "data": {
      "text/plain": [
       "Unnamed: 0       0\n",
       "SepalLengthCm    0\n",
       "SepalWidthCm     0\n",
       "PetalLengthCm    0\n",
       "PetalWidthCm     0\n",
       "Species          0\n",
       "dtype: int64"
      ]
     },
     "execution_count": 68,
     "metadata": {},
     "output_type": "execute_result"
    }
   ],
   "source": [
    "df1.isnull().sum()"
   ]
  },
  {
   "cell_type": "markdown",
   "id": "e2b83485-9562-4b23-a7fe-cb20530149ed",
   "metadata": {},
   "source": [
    "DAY 4  THURSDAY 21/11/2024 "
   ]
  },
  {
   "cell_type": "code",
   "execution_count": 69,
   "id": "e943f19e-5ece-44ce-8f47-ed1f135fda09",
   "metadata": {},
   "outputs": [
    {
     "data": {
      "text/html": [
       "<div>\n",
       "<style scoped>\n",
       "    .dataframe tbody tr th:only-of-type {\n",
       "        vertical-align: middle;\n",
       "    }\n",
       "\n",
       "    .dataframe tbody tr th {\n",
       "        vertical-align: top;\n",
       "    }\n",
       "\n",
       "    .dataframe thead th {\n",
       "        text-align: right;\n",
       "    }\n",
       "</style>\n",
       "<table border=\"1\" class=\"dataframe\">\n",
       "  <thead>\n",
       "    <tr style=\"text-align: right;\">\n",
       "      <th></th>\n",
       "      <th>Unnamed: 0</th>\n",
       "      <th>SepalLengthCm</th>\n",
       "      <th>SepalWidthCm</th>\n",
       "      <th>PetalLengthCm</th>\n",
       "      <th>PetalWidthCm</th>\n",
       "      <th>Species</th>\n",
       "    </tr>\n",
       "  </thead>\n",
       "  <tbody>\n",
       "    <tr>\n",
       "      <th>0</th>\n",
       "      <td>1</td>\n",
       "      <td>5.100000</td>\n",
       "      <td>3.500000</td>\n",
       "      <td>1.400000</td>\n",
       "      <td>0.2</td>\n",
       "      <td>Iris-setosa</td>\n",
       "    </tr>\n",
       "    <tr>\n",
       "      <th>1</th>\n",
       "      <td>2</td>\n",
       "      <td>4.900000</td>\n",
       "      <td>5.851678</td>\n",
       "      <td>1.400000</td>\n",
       "      <td>0.2</td>\n",
       "      <td>Iris-versicolor</td>\n",
       "    </tr>\n",
       "    <tr>\n",
       "      <th>2</th>\n",
       "      <td>3</td>\n",
       "      <td>4.700000</td>\n",
       "      <td>3.200000</td>\n",
       "      <td>1.300000</td>\n",
       "      <td>0.2</td>\n",
       "      <td>Iris-setosa</td>\n",
       "    </tr>\n",
       "    <tr>\n",
       "      <th>3</th>\n",
       "      <td>4</td>\n",
       "      <td>5.851678</td>\n",
       "      <td>3.100000</td>\n",
       "      <td>1.500000</td>\n",
       "      <td>0.2</td>\n",
       "      <td>Iris-setosa</td>\n",
       "    </tr>\n",
       "    <tr>\n",
       "      <th>4</th>\n",
       "      <td>5</td>\n",
       "      <td>5.000000</td>\n",
       "      <td>3.600000</td>\n",
       "      <td>3.788514</td>\n",
       "      <td>0.2</td>\n",
       "      <td>Iris-setosa</td>\n",
       "    </tr>\n",
       "    <tr>\n",
       "      <th>5</th>\n",
       "      <td>6</td>\n",
       "      <td>5.400000</td>\n",
       "      <td>3.900000</td>\n",
       "      <td>3.788514</td>\n",
       "      <td>0.4</td>\n",
       "      <td>Iris-setosa</td>\n",
       "    </tr>\n",
       "  </tbody>\n",
       "</table>\n",
       "</div>"
      ],
      "text/plain": [
       "   Unnamed: 0  SepalLengthCm  SepalWidthCm  PetalLengthCm  PetalWidthCm  \\\n",
       "0           1       5.100000      3.500000       1.400000           0.2   \n",
       "1           2       4.900000      5.851678       1.400000           0.2   \n",
       "2           3       4.700000      3.200000       1.300000           0.2   \n",
       "3           4       5.851678      3.100000       1.500000           0.2   \n",
       "4           5       5.000000      3.600000       3.788514           0.2   \n",
       "5           6       5.400000      3.900000       3.788514           0.4   \n",
       "\n",
       "           Species  \n",
       "0      Iris-setosa  \n",
       "1  Iris-versicolor  \n",
       "2      Iris-setosa  \n",
       "3      Iris-setosa  \n",
       "4      Iris-setosa  \n",
       "5      Iris-setosa  "
      ]
     },
     "execution_count": 69,
     "metadata": {},
     "output_type": "execute_result"
    }
   ],
   "source": [
    "df1.loc[0:5, ]\n",
    "## to put data in shape, take unnamed columns out, check number of decimal places, species has  a categorical type but it detail is object, so need to work on it"
   ]
  },
  {
   "cell_type": "code",
   "execution_count": 70,
   "id": "3f3bba5a-65c1-4291-a237-0a06cba8cc9e",
   "metadata": {},
   "outputs": [
    {
     "data": {
      "text/plain": [
       "Unnamed: 0         int64\n",
       "SepalLengthCm    float64\n",
       "SepalWidthCm     float64\n",
       "PetalLengthCm    float64\n",
       "PetalWidthCm     float64\n",
       "Species           object\n",
       "dtype: object"
      ]
     },
     "execution_count": 70,
     "metadata": {},
     "output_type": "execute_result"
    }
   ],
   "source": [
    "df1.dtypes"
   ]
  },
  {
   "cell_type": "code",
   "execution_count": 71,
   "id": "95593938-73ca-4cbb-9caa-35228e353e28",
   "metadata": {},
   "outputs": [],
   "source": [
    "df1['Species']= df1['Species'].astype('category')"
   ]
  },
  {
   "cell_type": "code",
   "execution_count": 72,
   "id": "62350a88-2949-4759-a701-9995495c0841",
   "metadata": {},
   "outputs": [
    {
     "data": {
      "text/plain": [
       "Unnamed: 0          int64\n",
       "SepalLengthCm     float64\n",
       "SepalWidthCm      float64\n",
       "PetalLengthCm     float64\n",
       "PetalWidthCm      float64\n",
       "Species          category\n",
       "dtype: object"
      ]
     },
     "execution_count": 72,
     "metadata": {},
     "output_type": "execute_result"
    }
   ],
   "source": [
    "df1.dtypes"
   ]
  },
  {
   "cell_type": "code",
   "execution_count": 73,
   "id": "7e5e4b49-4420-4e86-8e5f-5c66ecd2a7bf",
   "metadata": {},
   "outputs": [],
   "source": [
    "##df1.drop(['Unnamed:'], axis=1)  another method to delete the unnamed column"
   ]
  },
  {
   "cell_type": "code",
   "execution_count": 74,
   "id": "36bd9c53-b86b-46d9-8859-1ce0b677a363",
   "metadata": {},
   "outputs": [],
   "source": [
    "##to  delete the unnamed column\n",
    "del df1['Unnamed: 0']"
   ]
  },
  {
   "cell_type": "code",
   "execution_count": 75,
   "id": "9ec0d68b-075e-4b12-ba06-31a2309833c5",
   "metadata": {},
   "outputs": [
    {
     "data": {
      "text/plain": [
       "Index(['SepalLengthCm', 'SepalWidthCm', 'PetalLengthCm', 'PetalWidthCm',\n",
       "       'Species'],\n",
       "      dtype='object')"
      ]
     },
     "execution_count": 75,
     "metadata": {},
     "output_type": "execute_result"
    }
   ],
   "source": [
    "df1.columns\n",
    "##this is horizontal"
   ]
  },
  {
   "cell_type": "code",
   "execution_count": 76,
   "id": "79c5eb8b-c328-4bb9-b35e-b5c0f02f3350",
   "metadata": {},
   "outputs": [],
   "source": [
    "## round to 1dp\n",
    "df1['SepalLengthCm']=df1['SepalLengthCm'].round(1)"
   ]
  },
  {
   "cell_type": "code",
   "execution_count": 79,
   "id": "d887c8af-db1e-4527-adad-536be41f1af2",
   "metadata": {},
   "outputs": [
    {
     "name": "stdout",
     "output_type": "stream",
     "text": [
      "sepallengthcm\n",
      "sepalwidthcm\n",
      "petallengthcm\n",
      "petalwidthcm\n",
      "species\n"
     ]
    }
   ],
   "source": [
    "##changing column names to lowercase, normalising our data\n",
    "for each_col in df1.columns:\n",
    "    print(each_col.lower())\n",
    "    ##this makes it vertical"
   ]
  },
  {
   "cell_type": "code",
   "execution_count": null,
   "id": "921b672c-3fd5-439f-aca3-b1cd1a0ca520",
   "metadata": {},
   "outputs": [],
   "source": [
    "##finding out if its a string\n",
    "##print.dtype"
   ]
  },
  {
   "cell_type": "code",
   "execution_count": 80,
   "id": "d95bac2e-2232-47c2-8ca4-d495bf4614d1",
   "metadata": {},
   "outputs": [
    {
     "data": {
      "text/plain": [
       "Index(['sepallengthcm', 'sepalwidthcm', 'petallengthcm', 'petalwidthcm',\n",
       "       'species'],\n",
       "      dtype='object')"
      ]
     },
     "execution_count": 80,
     "metadata": {},
     "output_type": "execute_result"
    }
   ],
   "source": [
    "##this gives direct one\n",
    "df1.columns.str.lower()\n",
    "##for it to affect the actual document do what below"
   ]
  },
  {
   "cell_type": "code",
   "execution_count": null,
   "id": "fe311dc3-bc49-426a-8364-bfdc2570f070",
   "metadata": {},
   "outputs": [],
   "source": [
    "## to affect actual data  try to complete\n",
    "for each_col in df1.columns:\n",
    "    df1[each]"
   ]
  },
  {
   "cell_type": "code",
   "execution_count": 81,
   "id": "c98b527c-1e04-4b2e-815e-2f3d8ac0ceae",
   "metadata": {},
   "outputs": [],
   "source": [
    "df1.columns=df1.columns.str.lower()"
   ]
  },
  {
   "cell_type": "code",
   "execution_count": 82,
   "id": "427a939c-92e8-4b85-9165-ba772340d01e",
   "metadata": {},
   "outputs": [
    {
     "data": {
      "text/html": [
       "<div>\n",
       "<style scoped>\n",
       "    .dataframe tbody tr th:only-of-type {\n",
       "        vertical-align: middle;\n",
       "    }\n",
       "\n",
       "    .dataframe tbody tr th {\n",
       "        vertical-align: top;\n",
       "    }\n",
       "\n",
       "    .dataframe thead th {\n",
       "        text-align: right;\n",
       "    }\n",
       "</style>\n",
       "<table border=\"1\" class=\"dataframe\">\n",
       "  <thead>\n",
       "    <tr style=\"text-align: right;\">\n",
       "      <th></th>\n",
       "      <th>sepallengthcm</th>\n",
       "      <th>sepalwidthcm</th>\n",
       "      <th>petallengthcm</th>\n",
       "      <th>petalwidthcm</th>\n",
       "      <th>species</th>\n",
       "    </tr>\n",
       "  </thead>\n",
       "  <tbody>\n",
       "    <tr>\n",
       "      <th>0</th>\n",
       "      <td>5.1</td>\n",
       "      <td>3.500000</td>\n",
       "      <td>1.400000</td>\n",
       "      <td>0.2</td>\n",
       "      <td>Iris-setosa</td>\n",
       "    </tr>\n",
       "    <tr>\n",
       "      <th>1</th>\n",
       "      <td>4.9</td>\n",
       "      <td>5.851678</td>\n",
       "      <td>1.400000</td>\n",
       "      <td>0.2</td>\n",
       "      <td>Iris-versicolor</td>\n",
       "    </tr>\n",
       "    <tr>\n",
       "      <th>2</th>\n",
       "      <td>4.7</td>\n",
       "      <td>3.200000</td>\n",
       "      <td>1.300000</td>\n",
       "      <td>0.2</td>\n",
       "      <td>Iris-setosa</td>\n",
       "    </tr>\n",
       "    <tr>\n",
       "      <th>3</th>\n",
       "      <td>5.9</td>\n",
       "      <td>3.100000</td>\n",
       "      <td>1.500000</td>\n",
       "      <td>0.2</td>\n",
       "      <td>Iris-setosa</td>\n",
       "    </tr>\n",
       "    <tr>\n",
       "      <th>4</th>\n",
       "      <td>5.0</td>\n",
       "      <td>3.600000</td>\n",
       "      <td>3.788514</td>\n",
       "      <td>0.2</td>\n",
       "      <td>Iris-setosa</td>\n",
       "    </tr>\n",
       "  </tbody>\n",
       "</table>\n",
       "</div>"
      ],
      "text/plain": [
       "   sepallengthcm  sepalwidthcm  petallengthcm  petalwidthcm          species\n",
       "0            5.1      3.500000       1.400000           0.2      Iris-setosa\n",
       "1            4.9      5.851678       1.400000           0.2  Iris-versicolor\n",
       "2            4.7      3.200000       1.300000           0.2      Iris-setosa\n",
       "3            5.9      3.100000       1.500000           0.2      Iris-setosa\n",
       "4            5.0      3.600000       3.788514           0.2      Iris-setosa"
      ]
     },
     "execution_count": 82,
     "metadata": {},
     "output_type": "execute_result"
    }
   ],
   "source": [
    "## to affect actual data, all chandes to lowercase\n",
    "df1.head()"
   ]
  },
  {
   "cell_type": "code",
   "execution_count": 83,
   "id": "74d90321-a9db-4f56-adee-916ae44e4926",
   "metadata": {},
   "outputs": [],
   "source": [
    "##ssaving dataframe as csv data\n",
    "df1.to_csv('clean_iris_dataset.csv')"
   ]
  },
  {
   "cell_type": "code",
   "execution_count": null,
   "id": "3b5f2bcd-0136-422d-8904-3530adf92647",
   "metadata": {},
   "outputs": [],
   "source": []
  }
 ],
 "metadata": {
  "kernelspec": {
   "display_name": "Python 3 (ipykernel)",
   "language": "python",
   "name": "python3"
  },
  "language_info": {
   "codemirror_mode": {
    "name": "ipython",
    "version": 3
   },
   "file_extension": ".py",
   "mimetype": "text/x-python",
   "name": "python",
   "nbconvert_exporter": "python",
   "pygments_lexer": "ipython3",
   "version": "3.12.5"
  }
 },
 "nbformat": 4,
 "nbformat_minor": 5
}
